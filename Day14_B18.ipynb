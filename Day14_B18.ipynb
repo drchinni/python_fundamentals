{
 "cells": [
  {
   "cell_type": "markdown",
   "metadata": {},
   "source": [
    "# Introduction to constructor: \n",
    "\n",
    "Some call this as \"special method\"\n",
    "\n",
    "some call this as \"magical method\""
   ]
  },
  {
   "cell_type": "code",
   "execution_count": null,
   "metadata": {},
   "outputs": [],
   "source": []
  },
  {
   "cell_type": "code",
   "execution_count": null,
   "metadata": {},
   "outputs": [],
   "source": [
    "Definition:  A constructor is used to initialize things (or invoke things)\n",
    "    \n",
    "99.99% of the time, we will be using the constructor. \n",
    "This is considered as the best way to design programs\n"
   ]
  },
  {
   "cell_type": "markdown",
   "metadata": {},
   "source": [
    "###  Requirement : Design a Dog class....\n",
    "\n",
    "    name, age of the dog. ........> needs to accept\n",
    "    \n",
    "    Design three different methods.\n",
    "    \n",
    "        Sit method\n",
    "        \n",
    "        Roll_over method\n",
    "        \n",
    "        Sleep method\n",
    "        \n",
    "    Let's say you are designing a video game and a dog needs to do certain actions.\n",
    "    \n",
    "    ** We must use double underscore for constructor.  i.e., __init__ **\n",
    "    \n",
    "    __init__ is used for initializing."
   ]
  },
  {
   "cell_type": "code",
   "execution_count": null,
   "metadata": {},
   "outputs": [],
   "source": []
  },
  {
   "cell_type": "code",
   "execution_count": 1,
   "metadata": {},
   "outputs": [],
   "source": [
    "class Dog:\n",
    "    \"\"\"A simple attempt to model a dog\"\"\"\n",
    "    \n",
    "    def __init__(self,name,age):\n",
    "        \"\"\"Initialie name and age attributes\"\"\"\n",
    "        self.name = name\n",
    "        self.age = age\n",
    "        print('it got executed')\n",
    "    \n",
    "    def sit(self):\n",
    "        \"\"\"simulate a dog sitting in response to a command\"\"\"\n",
    "        print(f\" {self.name} is now sitting\")\n",
    "        \n",
    "    def roll_over(self):\n",
    "        \"\"\"simulate a dog to roll over in response to a command\"\"\"\n",
    "        print(f\" {self.name} is now rolling\")\n",
    "        \n",
    "    def sleep(self):\n",
    "        \"\"\"simulate a dog to sleep in response to a command\"\"\"\n",
    "        print(f\" {self.name} is now sleeping\")\n",
    "        \n",
    "        "
   ]
  },
  {
   "cell_type": "code",
   "execution_count": 2,
   "metadata": {},
   "outputs": [
    {
     "name": "stdout",
     "output_type": "stream",
     "text": [
      "it got executed\n"
     ]
    }
   ],
   "source": [
    "aobj = Dog('bunti',2) #run time passing of arguments....."
   ]
  },
  {
   "cell_type": "code",
   "execution_count": 3,
   "metadata": {},
   "outputs": [
    {
     "name": "stdout",
     "output_type": "stream",
     "text": [
      " bunti is now sitting\n"
     ]
    }
   ],
   "source": [
    "aobj.sit()"
   ]
  },
  {
   "cell_type": "code",
   "execution_count": 4,
   "metadata": {},
   "outputs": [
    {
     "name": "stdout",
     "output_type": "stream",
     "text": [
      " bunti is now sleeping\n"
     ]
    }
   ],
   "source": [
    "aobj.sleep()"
   ]
  },
  {
   "cell_type": "code",
   "execution_count": 5,
   "metadata": {},
   "outputs": [
    {
     "name": "stdout",
     "output_type": "stream",
     "text": [
      " bunti is now rolling\n"
     ]
    }
   ],
   "source": [
    "aobj.roll_over()"
   ]
  },
  {
   "cell_type": "code",
   "execution_count": null,
   "metadata": {},
   "outputs": [],
   "source": []
  },
  {
   "cell_type": "code",
   "execution_count": 6,
   "metadata": {},
   "outputs": [],
   "source": [
    "class Car:\n",
    "    \"\"\"A simple attempt to model a dog\"\"\"\n",
    "    \n",
    "    def __init__(self,name,year):\n",
    "        \"\"\"Initialie name and age attributes\"\"\"\n",
    "        self.name = name\n",
    "        self.year = year\n",
    "        print('it got executed')\n",
    "    \n",
    "    def start(self):\n",
    "        \"\"\"simulate a car to start in response to a command\"\"\"\n",
    "        print(f\" {self.name} has started now\")\n",
    "        \n",
    "    def stop(self):\n",
    "        \"\"\"simulate a car stop in response to a command\"\"\"\n",
    "        print(f\" {self.name} has stopped now\")\n",
    "        \n",
    "    def racing(self):\n",
    "        \"\"\"simulate a car to race in response to a command\"\"\"\n",
    "        print(f\" {self.name} is now racing\")\n",
    "        \n",
    "    def overtaking(self):\n",
    "        \"\"\"simulate a car to overtake in response to a command\"\"\"\n",
    "        print(f\" {self.name} is now overtaking\")\n",
    "    \n",
    "    def accident(self):\n",
    "        \"\"\"simulate a car to have an accident in response to a command\"\"\"\n",
    "        print(f\" {self.name} is involved in an accident\")"
   ]
  },
  {
   "cell_type": "code",
   "execution_count": 8,
   "metadata": {},
   "outputs": [
    {
     "name": "stdout",
     "output_type": "stream",
     "text": [
      "it got executed\n"
     ]
    }
   ],
   "source": [
    "xobj = Car('Audi',2020)"
   ]
  },
  {
   "cell_type": "code",
   "execution_count": 9,
   "metadata": {},
   "outputs": [
    {
     "name": "stdout",
     "output_type": "stream",
     "text": [
      " Audi has started now\n"
     ]
    }
   ],
   "source": [
    "xobj.start()"
   ]
  },
  {
   "cell_type": "code",
   "execution_count": 10,
   "metadata": {},
   "outputs": [
    {
     "name": "stdout",
     "output_type": "stream",
     "text": [
      " Audi has stopped now\n"
     ]
    }
   ],
   "source": [
    "xobj.stop()"
   ]
  },
  {
   "cell_type": "code",
   "execution_count": 11,
   "metadata": {},
   "outputs": [
    {
     "name": "stdout",
     "output_type": "stream",
     "text": [
      " Audi is involved in an accident\n"
     ]
    }
   ],
   "source": [
    "xobj.accident()"
   ]
  },
  {
   "cell_type": "code",
   "execution_count": 12,
   "metadata": {},
   "outputs": [
    {
     "name": "stdout",
     "output_type": "stream",
     "text": [
      " Audi is now racing\n"
     ]
    }
   ],
   "source": [
    "xobj.racing()"
   ]
  },
  {
   "cell_type": "code",
   "execution_count": 13,
   "metadata": {},
   "outputs": [
    {
     "name": "stdout",
     "output_type": "stream",
     "text": [
      " Audi is now overtaking\n"
     ]
    }
   ],
   "source": [
    "xobj.overtaking()"
   ]
  },
  {
   "cell_type": "code",
   "execution_count": null,
   "metadata": {},
   "outputs": [],
   "source": []
  },
  {
   "cell_type": "code",
   "execution_count": null,
   "metadata": {},
   "outputs": [],
   "source": []
  },
  {
   "cell_type": "code",
   "execution_count": null,
   "metadata": {},
   "outputs": [],
   "source": []
  }
 ],
 "metadata": {
  "kernelspec": {
   "display_name": "Python 3",
   "language": "python",
   "name": "python3"
  },
  "language_info": {
   "codemirror_mode": {
    "name": "ipython",
    "version": 3
   },
   "file_extension": ".py",
   "mimetype": "text/x-python",
   "name": "python",
   "nbconvert_exporter": "python",
   "pygments_lexer": "ipython3",
   "version": "3.7.6"
  }
 },
 "nbformat": 4,
 "nbformat_minor": 4
}
