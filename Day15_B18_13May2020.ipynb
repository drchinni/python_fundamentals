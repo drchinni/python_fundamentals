{
 "cells": [
  {
   "cell_type": "markdown",
   "metadata": {},
   "source": [
    "# Understanding super classes and sub classes (aka parent and child classes)"
   ]
  },
  {
   "cell_type": "code",
   "execution_count": null,
   "metadata": {},
   "outputs": [],
   "source": []
  },
  {
   "cell_type": "code",
   "execution_count": null,
   "metadata": {},
   "outputs": [],
   "source": [
    "Scenario:  \n",
    "    \n",
    "    There is a company called ABC pvt ltd.  \n",
    "    This is a software company\n",
    "    There are 3 software developers - a, b and c\n",
    "    They have been working for long time\n",
    "    They got a new project\n",
    "        current developers are not able to work for this because of other projects\n",
    "        Company want to hire 2 new developers.\n",
    "            One senior  - Satya  - 14 year experience - Knows in and out of companh\n",
    "            One fresher - Ravali -  2 year experience - Just learning things\n",
    "    Work assignment\n",
    "    \n",
    "        Initial 2 day induction\n",
    "            Senior developer knows everything.\n",
    "                So, he is busy chatting with a,b and c finding more details about \n",
    "                    the company\n",
    "                    how current developers are working\n",
    "            Fresher\n",
    "                Going through the induction process\n",
    "                \n",
    "        Day 3\n",
    "            Work assignment:  \n",
    "                Class a ---> Ravali --> 8 hours.  \n",
    "                    v1, v2, v3, v4, v5, v6 are the attributes she has to design.\n",
    "                    Ravali took 7 hours to complete the task.\n",
    "                Class b ---> Satya  --> 8 hours.  \n",
    "                    Satya took only one and half hours to complete\n",
    "                    \n",
    "        Why Satya took shorter time?\n",
    "            "
   ]
  },
  {
   "cell_type": "code",
   "execution_count": 1,
   "metadata": {},
   "outputs": [],
   "source": [
    "class Parent: # a,b and c had already did this.\n",
    "    \n",
    "    v1 = 'I am var1'\n",
    "    v2 = 'I am var2'\n",
    "    v3 = 'I am var3'\n",
    "    v4 = 'I am var4'"
   ]
  },
  {
   "cell_type": "code",
   "execution_count": null,
   "metadata": {},
   "outputs": [],
   "source": [
    "In the above scenario, Ravali did the class like this"
   ]
  },
  {
   "cell_type": "code",
   "execution_count": 2,
   "metadata": {},
   "outputs": [],
   "source": [
    "class Aclass: \n",
    "    \n",
    "    v1 = 'I am var1'\n",
    "    v2 = 'I am var2'\n",
    "    v3 = 'I am var3'\n",
    "    v4 = 'I am var4'\n",
    "    v5 = 'I am var5'\n",
    "    v6 = 'I am var6'"
   ]
  },
  {
   "cell_type": "code",
   "execution_count": 3,
   "metadata": {},
   "outputs": [],
   "source": [
    "xobj = Aclass()"
   ]
  },
  {
   "cell_type": "code",
   "execution_count": 4,
   "metadata": {},
   "outputs": [
    {
     "data": {
      "text/plain": [
       "'I am var1'"
      ]
     },
     "execution_count": 4,
     "metadata": {},
     "output_type": "execute_result"
    }
   ],
   "source": [
    "xobj.v1"
   ]
  },
  {
   "cell_type": "code",
   "execution_count": 5,
   "metadata": {},
   "outputs": [
    {
     "data": {
      "text/plain": [
       "'I am var2'"
      ]
     },
     "execution_count": 5,
     "metadata": {},
     "output_type": "execute_result"
    }
   ],
   "source": [
    "xobj.v2"
   ]
  },
  {
   "cell_type": "code",
   "execution_count": null,
   "metadata": {},
   "outputs": [],
   "source": []
  },
  {
   "cell_type": "code",
   "execution_count": null,
   "metadata": {},
   "outputs": [],
   "source": [
    "How Satya worked it out quicker.  \n",
    "He had a chat with a, b and c and got an understanding about how things work in the company."
   ]
  },
  {
   "cell_type": "code",
   "execution_count": 8,
   "metadata": {},
   "outputs": [],
   "source": [
    "class Bclass(Parent):\n",
    "    v5 = 'i am v5'\n",
    "    v6 = 'i am v6'"
   ]
  },
  {
   "cell_type": "code",
   "execution_count": null,
   "metadata": {},
   "outputs": [],
   "source": [
    "so, where are v1, v2, v3 and v4.  Lets check whether he did or not."
   ]
  },
  {
   "cell_type": "code",
   "execution_count": 9,
   "metadata": {},
   "outputs": [],
   "source": [
    "yobj = Bclass()"
   ]
  },
  {
   "cell_type": "code",
   "execution_count": 10,
   "metadata": {},
   "outputs": [
    {
     "data": {
      "text/plain": [
       "'I am var1'"
      ]
     },
     "execution_count": 10,
     "metadata": {},
     "output_type": "execute_result"
    }
   ],
   "source": [
    "yobj.v1"
   ]
  },
  {
   "cell_type": "code",
   "execution_count": 11,
   "metadata": {},
   "outputs": [
    {
     "data": {
      "text/plain": [
       "'I am var2'"
      ]
     },
     "execution_count": 11,
     "metadata": {},
     "output_type": "execute_result"
    }
   ],
   "source": [
    "yobj.v2"
   ]
  },
  {
   "cell_type": "code",
   "execution_count": 12,
   "metadata": {},
   "outputs": [
    {
     "data": {
      "text/plain": [
       "'I am var3'"
      ]
     },
     "execution_count": 12,
     "metadata": {},
     "output_type": "execute_result"
    }
   ],
   "source": [
    "yobj.v3"
   ]
  },
  {
   "cell_type": "code",
   "execution_count": 13,
   "metadata": {},
   "outputs": [
    {
     "data": {
      "text/plain": [
       "'I am var4'"
      ]
     },
     "execution_count": 13,
     "metadata": {},
     "output_type": "execute_result"
    }
   ],
   "source": [
    "yobj.v4"
   ]
  },
  {
   "cell_type": "code",
   "execution_count": null,
   "metadata": {},
   "outputs": [],
   "source": [
    "The difference is Ravali did coding from v1 to v6.\n",
    "Satya used the pre-exisitng things and inherited the property of the parent class that is already present. So, he had to spend only 1/3rd of the time to finish rest."
   ]
  },
  {
   "cell_type": "code",
   "execution_count": null,
   "metadata": {},
   "outputs": [],
   "source": [
    "This is the concept of inheritance i.e., child is inheriting from the parent.....≥≥≥...≥≥÷÷÷÷÷÷÷÷÷÷÷÷÷÷÷÷÷÷÷÷÷÷/"
   ]
  },
  {
   "cell_type": "code",
   "execution_count": null,
   "metadata": {},
   "outputs": [],
   "source": [
    "class Bclass(parent) is a subclass inherting its superclass functionalities..."
   ]
  },
  {
   "cell_type": "code",
   "execution_count": null,
   "metadata": {},
   "outputs": [],
   "source": []
  },
  {
   "cell_type": "code",
   "execution_count": null,
   "metadata": {},
   "outputs": [],
   "source": [
    "Usual Errors and how to correct them"
   ]
  },
  {
   "cell_type": "code",
   "execution_count": null,
   "metadata": {},
   "outputs": [],
   "source": [
    "Execution errors.  Must execute each and every line\n",
    "Alignment and indentation.  its important to indent appropriately."
   ]
  },
  {
   "cell_type": "code",
   "execution_count": null,
   "metadata": {},
   "outputs": [],
   "source": []
  },
  {
   "cell_type": "code",
   "execution_count": null,
   "metadata": {},
   "outputs": [],
   "source": [
    "Next --- File handing and exception handling."
   ]
  },
  {
   "cell_type": "code",
   "execution_count": null,
   "metadata": {},
   "outputs": [],
   "source": []
  }
 ],
 "metadata": {
  "kernelspec": {
   "display_name": "Python 3",
   "language": "python",
   "name": "python3"
  },
  "language_info": {
   "codemirror_mode": {
    "name": "ipython",
    "version": 3
   },
   "file_extension": ".py",
   "mimetype": "text/x-python",
   "name": "python",
   "nbconvert_exporter": "python",
   "pygments_lexer": "ipython3",
   "version": "3.7.6"
  }
 },
 "nbformat": 4,
 "nbformat_minor": 4
}
