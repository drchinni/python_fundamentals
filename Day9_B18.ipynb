{
 "cells": [
  {
   "cell_type": "markdown",
   "metadata": {},
   "source": [
    " ####   Looping through dictionaries: **"
   ]
  },
  {
   "cell_type": "code",
   "execution_count": 3,
   "metadata": {},
   "outputs": [
    {
     "name": "stdout",
     "output_type": "stream",
     "text": [
      "{'f_name': 'code', 'l_name': 'training', 'username': 'codetraining01', 'pwd': '12345', 'dob': '01-01-2019'}\n"
     ]
    }
   ],
   "source": [
    "user1 = {'f_name':'code','l_name':'training','username':'codetraining01','pwd':'12345','dob':'01-01-2019'}\n",
    "print(user1)"
   ]
  },
  {
   "cell_type": "code",
   "execution_count": null,
   "metadata": {},
   "outputs": [],
   "source": []
  },
  {
   "cell_type": "markdown",
   "metadata": {},
   "source": [
    "##### how do you loop through a dictionary??"
   ]
  },
  {
   "cell_type": "code",
   "execution_count": null,
   "metadata": {},
   "outputs": [],
   "source": [
    "General Syntax:\n",
    "    \n",
    "\n",
    "for tempvar in mainvar:\n",
    "    print(tempvar)\n",
    "    \n",
    "    key & value...dict data type.  We will be able to definite two temp variables"
   ]
  },
  {
   "cell_type": "code",
   "execution_count": 4,
   "metadata": {},
   "outputs": [
    {
     "name": "stdout",
     "output_type": "stream",
     "text": [
      "key:f_name\n",
      "value: code\n",
      "key:l_name\n",
      "value: training\n",
      "key:username\n",
      "value: codetraining01\n",
      "key:pwd\n",
      "value: 12345\n",
      "key:dob\n",
      "value: 01-01-2019\n"
     ]
    }
   ],
   "source": [
    "for key, value in user1.items():\n",
    "    print(f\"key:{key}\")\n",
    "    print(f\"value: {value}\")"
   ]
  },
  {
   "cell_type": "code",
   "execution_count": null,
   "metadata": {},
   "outputs": [],
   "source": []
  },
  {
   "cell_type": "markdown",
   "metadata": {},
   "source": [
    "##### Enahncing the code: Key-value together displayed in a proper format or easily readable way. "
   ]
  },
  {
   "cell_type": "code",
   "execution_count": null,
   "metadata": {},
   "outputs": [],
   "source": [
    "# use \\n for new line while printing"
   ]
  },
  {
   "cell_type": "code",
   "execution_count": 5,
   "metadata": {},
   "outputs": [
    {
     "name": "stdout",
     "output_type": "stream",
     "text": [
      "\n",
      "key: f_name\n",
      "value: code)\n",
      "\n",
      "key: l_name\n",
      "value: training)\n",
      "\n",
      "key: username\n",
      "value: codetraining01)\n",
      "\n",
      "key: pwd\n",
      "value: 12345)\n",
      "\n",
      "key: dob\n",
      "value: 01-01-2019)\n"
     ]
    }
   ],
   "source": [
    "for x,y in user1.items():\n",
    "    print(f\"\\nkey: {x}\")\n",
    "    print(f\"value: {y})\")"
   ]
  },
  {
   "cell_type": "code",
   "execution_count": null,
   "metadata": {},
   "outputs": [],
   "source": []
  },
  {
   "cell_type": "markdown",
   "metadata": {},
   "source": [
    "#####   How to get only keys in the output?"
   ]
  },
  {
   "cell_type": "code",
   "execution_count": 6,
   "metadata": {},
   "outputs": [
    {
     "name": "stdout",
     "output_type": "stream",
     "text": [
      "f_name\n",
      "l_name\n",
      "username\n",
      "pwd\n",
      "dob\n"
     ]
    }
   ],
   "source": [
    "for a in user1.keys():\n",
    "    print(a)"
   ]
  },
  {
   "cell_type": "code",
   "execution_count": null,
   "metadata": {},
   "outputs": [],
   "source": []
  },
  {
   "cell_type": "markdown",
   "metadata": {},
   "source": [
    "#####   How to get only values in the output?"
   ]
  },
  {
   "cell_type": "code",
   "execution_count": 7,
   "metadata": {},
   "outputs": [
    {
     "name": "stdout",
     "output_type": "stream",
     "text": [
      "code\n",
      "training\n",
      "codetraining01\n",
      "12345\n",
      "01-01-2019\n"
     ]
    }
   ],
   "source": [
    "for b in user1.values():\n",
    "    print(b)"
   ]
  },
  {
   "cell_type": "code",
   "execution_count": null,
   "metadata": {},
   "outputs": [],
   "source": []
  },
  {
   "cell_type": "markdown",
   "metadata": {},
   "source": [
    "#####  Scenario:  Conducting a survery for a group of students to chose their favourite programming language and display the results to each and everyone"
   ]
  },
  {
   "cell_type": "code",
   "execution_count": null,
   "metadata": {},
   "outputs": [],
   "source": [
    "First define, then use looping"
   ]
  },
  {
   "cell_type": "code",
   "execution_count": 8,
   "metadata": {},
   "outputs": [
    {
     "name": "stdout",
     "output_type": "stream",
     "text": [
      "{'suresh': 'C', 'ramesh': 'c++', 'satya': 'pascal', 'reena': 'python', 'siva': 'C', 'amar': 'python'}\n"
     ]
    }
   ],
   "source": [
    "fav_languages = {'suresh':'C', 'ramesh':'c++', 'satya':'pascal', 'reena':'python', 'siva':'C', 'amar':'python'}\n",
    "print(fav_languages)"
   ]
  },
  {
   "cell_type": "code",
   "execution_count": 9,
   "metadata": {},
   "outputs": [
    {
     "data": {
      "text/plain": [
       "dict"
      ]
     },
     "execution_count": 9,
     "metadata": {},
     "output_type": "execute_result"
    }
   ],
   "source": [
    "type(fav_languages)"
   ]
  },
  {
   "cell_type": "code",
   "execution_count": 15,
   "metadata": {},
   "outputs": [
    {
     "name": "stdout",
     "output_type": "stream",
     "text": [
      "Suresh's favourite language is C\n",
      "Ramesh's favourite language is C++\n",
      "Satya's favourite language is Pascal\n",
      "Reena's favourite language is Python\n",
      "Siva's favourite language is C\n",
      "Amar's favourite language is Python\n"
     ]
    }
   ],
   "source": [
    "for name, language in fav_languages.items():\n",
    "    print(f\"{name.title()}'s favourite language is {language.title()}\")"
   ]
  },
  {
   "cell_type": "code",
   "execution_count": 25,
   "metadata": {},
   "outputs": [
    {
     "name": "stdout",
     "output_type": "stream",
     "text": [
      "\n",
      "Suresh's favourite language is C\n",
      "\n",
      "Ramesh's favourite language is C++\n",
      "\n",
      "Satya's favourite language is Pascal\n",
      "\n",
      "Reena's favourite language is Python\n",
      "\n",
      "Siva's favourite language is C\n",
      "\n",
      "Amar's favourite language is Python\n"
     ]
    }
   ],
   "source": [
    "for name, language in fav_languages.items():\n",
    "    print(f\"\\n{name.title()}'s favourite language is {language.title()}\")"
   ]
  },
  {
   "cell_type": "code",
   "execution_count": null,
   "metadata": {},
   "outputs": [],
   "source": []
  }
 ],
 "metadata": {
  "kernelspec": {
   "display_name": "Python 3",
   "language": "python",
   "name": "python3"
  },
  "language_info": {
   "codemirror_mode": {
    "name": "ipython",
    "version": 3
   },
   "file_extension": ".py",
   "mimetype": "text/x-python",
   "name": "python",
   "nbconvert_exporter": "python",
   "pygments_lexer": "ipython3",
   "version": "3.7.6"
  }
 },
 "nbformat": 4,
 "nbformat_minor": 4
}
