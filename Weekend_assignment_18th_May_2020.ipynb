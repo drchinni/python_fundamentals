{
 "cells": [
  {
   "cell_type": "markdown",
   "metadata": {},
   "source": [
    "## Weekend Task 1: T-Shirt\n",
    "        \n",
    "Write a function called make_shirt() that accepts a size and the text of a message that should be printed on the shirt. \n",
    "\n",
    "The function should print a sentence summarizing the size of the shirt and the message printed on it."
   ]
  },
  {
   "cell_type": "markdown",
   "metadata": {},
   "source": [
    "### Task 1a: Call the function once using positional arguments to make a shirt."
   ]
  },
  {
   "cell_type": "code",
   "execution_count": 1,
   "metadata": {},
   "outputs": [],
   "source": [
    "def make_shirt(size, text):\n",
    "    \"\"\"Display the size of the shirt and text to be printed on the T-shirt\"\"\"\n",
    "    print(f\"\\nThe shirt size is {size} and the message to be printed on it is {text}\")"
   ]
  },
  {
   "cell_type": "code",
   "execution_count": 2,
   "metadata": {},
   "outputs": [
    {
     "name": "stdout",
     "output_type": "stream",
     "text": [
      "\n",
      "The shirt size is medium and the message to be printed on it is I love python\n"
     ]
    }
   ],
   "source": [
    "make_shirt(\"medium\", \"I love python\")"
   ]
  },
  {
   "cell_type": "code",
   "execution_count": null,
   "metadata": {},
   "outputs": [],
   "source": []
  },
  {
   "cell_type": "markdown",
   "metadata": {},
   "source": [
    "### Task 1b: Call the function a second time using keyword agruments"
   ]
  },
  {
   "cell_type": "code",
   "execution_count": 3,
   "metadata": {},
   "outputs": [
    {
     "name": "stdout",
     "output_type": "stream",
     "text": [
      "\n",
      "The shirt size is medium and the message to be printed on it is I love python\n"
     ]
    }
   ],
   "source": [
    "make_shirt(size = \"medium\", text = \"I love python\")"
   ]
  },
  {
   "cell_type": "markdown",
   "metadata": {},
   "source": [
    "## Weekend Task 2a: Large T-Shirt  : Modify the make_shirt() function so that shirts are large by default with a message that reads I love you Python\n",
    "Make a large shirt and a medium shirt with the default message,"
   ]
  },
  {
   "cell_type": "code",
   "execution_count": 4,
   "metadata": {},
   "outputs": [],
   "source": [
    "def make_shirt(text,size=\"large\"):\n",
    "    print(f\"\\nThe shirt size is {size} and the message to be printed on it is {text}\")"
   ]
  },
  {
   "cell_type": "code",
   "execution_count": 5,
   "metadata": {},
   "outputs": [
    {
     "name": "stdout",
     "output_type": "stream",
     "text": [
      "\n",
      "The shirt size is large and the message to be printed on it is I love python\n"
     ]
    }
   ],
   "source": [
    "make_shirt(\"I love python\")"
   ]
  },
  {
   "cell_type": "code",
   "execution_count": 6,
   "metadata": {},
   "outputs": [],
   "source": [
    "def make_shirt(text,size=\"medium\"):\n",
    "    print(f\"\\nThe shirt size is {size} and the message to be printed on it is {text}\")"
   ]
  },
  {
   "cell_type": "code",
   "execution_count": 7,
   "metadata": {},
   "outputs": [
    {
     "name": "stdout",
     "output_type": "stream",
     "text": [
      "\n",
      "The shirt size is medium and the message to be printed on it is I love python\n"
     ]
    }
   ],
   "source": [
    "make_shirt(\"I love python\")"
   ]
  },
  {
   "cell_type": "code",
   "execution_count": null,
   "metadata": {},
   "outputs": [],
   "source": []
  },
  {
   "cell_type": "markdown",
   "metadata": {},
   "source": [
    "## Task 2b: Make a shirt of any size with a different message."
   ]
  },
  {
   "cell_type": "code",
   "execution_count": 8,
   "metadata": {},
   "outputs": [],
   "source": [
    "def make_shirt(size,message=\"Python is the best\"):\n",
    "    \n",
    "    if size ==\"large\":\n",
    "        print(f\"The size of the T-Shirt is {size} and the message to be printed on it is: {message}.\")\n",
    "    elif size ==\"medium\":\n",
    "        print(f\"The size of the T-Shirt is {size} and the message to be printed on it is: {message}.\")  \n",
    "    else:\n",
    "        print(f\"The selected size is not available.  Please chose between large or medium.\")\n",
    "    "
   ]
  },
  {
   "cell_type": "code",
   "execution_count": 9,
   "metadata": {},
   "outputs": [
    {
     "name": "stdout",
     "output_type": "stream",
     "text": [
      "The size of the T-Shirt is large and the message to be printed on it is: Python is the best.\n"
     ]
    }
   ],
   "source": [
    "make_shirt(\"large\")"
   ]
  },
  {
   "cell_type": "code",
   "execution_count": 10,
   "metadata": {},
   "outputs": [
    {
     "name": "stdout",
     "output_type": "stream",
     "text": [
      "The selected size is not available.  Please chose between large or medium.\n"
     ]
    }
   ],
   "source": [
    "make_shirt(\"small\")"
   ]
  },
  {
   "cell_type": "code",
   "execution_count": 11,
   "metadata": {},
   "outputs": [
    {
     "name": "stdout",
     "output_type": "stream",
     "text": [
      "The selected size is not available.  Please chose between large or medium.\n"
     ]
    }
   ],
   "source": [
    "make_shirt(\"extra-small\")"
   ]
  },
  {
   "cell_type": "code",
   "execution_count": 12,
   "metadata": {},
   "outputs": [
    {
     "name": "stdout",
     "output_type": "stream",
     "text": [
      "The size of the T-Shirt is medium and the message to be printed on it is: Python is the best.\n"
     ]
    }
   ],
   "source": [
    "make_shirt(\"medium\")"
   ]
  },
  {
   "cell_type": "code",
   "execution_count": null,
   "metadata": {},
   "outputs": [],
   "source": []
  },
  {
   "cell_type": "markdown",
   "metadata": {},
   "source": [
    "##  Weekend task 3 : Cities\n"
   ]
  },
  {
   "cell_type": "markdown",
   "metadata": {},
   "source": [
    "### Task 3A: Write a function called describe_city() that accepts the name of a city and its country.  The function should print a simple sentence, such as Reykjavik is in Iceland. "
   ]
  },
  {
   "cell_type": "code",
   "execution_count": 13,
   "metadata": {},
   "outputs": [],
   "source": [
    "def describe_city(city, country):\n",
    "    \n",
    "    print(f\"\\n{city} is in {country}\")"
   ]
  },
  {
   "cell_type": "code",
   "execution_count": 14,
   "metadata": {},
   "outputs": [
    {
     "name": "stdout",
     "output_type": "stream",
     "text": [
      "\n",
      "bristol is in United Kingdom\n"
     ]
    }
   ],
   "source": [
    "describe_city('bristol', 'United Kingdom')"
   ]
  },
  {
   "cell_type": "code",
   "execution_count": null,
   "metadata": {},
   "outputs": [],
   "source": []
  },
  {
   "cell_type": "markdown",
   "metadata": {},
   "source": [
    "### Task 3B: Give the parameter for the country a default value.  Call your function for three different cities, at least one of which is not in the default country."
   ]
  },
  {
   "cell_type": "code",
   "execution_count": 15,
   "metadata": {},
   "outputs": [],
   "source": [
    "def describe_city(city, country='United Kingdom'):\n",
    "    \n",
    "    print(f\"\\n{city} is in {country}\")"
   ]
  },
  {
   "cell_type": "code",
   "execution_count": 16,
   "metadata": {},
   "outputs": [
    {
     "name": "stdout",
     "output_type": "stream",
     "text": [
      "\n",
      "Bristol is in United Kingdom\n",
      "\n",
      "London is in United Kingdom\n",
      "\n",
      "Chennai is in India\n"
     ]
    }
   ],
   "source": [
    "describe_city('Bristol')\n",
    "describe_city('London')\n",
    "describe_city('Chennai','India')"
   ]
  }
 ],
 "metadata": {
  "kernelspec": {
   "display_name": "Python 3",
   "language": "python",
   "name": "python3"
  },
  "language_info": {
   "codemirror_mode": {
    "name": "ipython",
    "version": 3
   },
   "file_extension": ".py",
   "mimetype": "text/x-python",
   "name": "python",
   "nbconvert_exporter": "python",
   "pygments_lexer": "ipython3",
   "version": "3.7.6"
  }
 },
 "nbformat": 4,
 "nbformat_minor": 4
}
