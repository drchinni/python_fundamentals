{
 "cells": [
  {
   "cell_type": "code",
   "execution_count": null,
   "metadata": {},
   "outputs": [],
   "source": [
    "Python Demo session"
   ]
  },
  {
   "cell_type": "code",
   "execution_count": null,
   "metadata": {},
   "outputs": [],
   "source": []
  },
  {
   "cell_type": "code",
   "execution_count": null,
   "metadata": {},
   "outputs": [],
   "source": [
    "Why Python\n",
    "\n",
    "    Essence and popularity\n",
    "\n",
    "    Most demanding language of the year 2019\n",
    "\n",
    "    All the top tech companies are looking for python developers\n",
    "    \n",
    "\n",
    "Why there is a demand and boom in industry?\n",
    "\n",
    "    Simplicity to write the code and integrations\n",
    "    \n",
    "    \n",
    "Career point of view\n",
    "\n",
    "    Offers best packages in current IT industry and High demand programming language\n",
    "    \n",
    "\n",
    "    "
   ]
  },
  {
   "cell_type": "code",
   "execution_count": 1,
   "metadata": {},
   "outputs": [
    {
     "name": "stdout",
     "output_type": "stream",
     "text": [
      "Hello world\n"
     ]
    }
   ],
   "source": [
    "print(\"Hello world\")"
   ]
  },
  {
   "cell_type": "code",
   "execution_count": null,
   "metadata": {},
   "outputs": [],
   "source": [
    "Course content\n",
    "\n",
    "1.\n",
    "\n",
    "2. Rules for declaring the variables\n",
    "\n",
    "3. Introduction to Data types\n",
    "\n",
    "    - string\n",
    "    - List\n",
    "    - Tuple\n",
    "    - Dictionaries\n",
    "    \n",
    "4. Introduction to String data type\n",
    "\n",
    "    - String declaration\n",
    "    - features\n",
    "    - built-in methods of string\n",
    "    - Stripping whitespaces\n",
    "    - understanding the f strings\n",
    "    \n",
    "5. Introduction to list data type\n",
    "    \n",
    "    - List declaration\n",
    "    - features\n",
    "    - builit-in methods of list\n",
    "    \n",
    "6. Introduction to loooping statements:\n",
    "    \n",
    "    - for loop introduction\n",
    "    - improvising the code with for loop\n",
    "    \n",
    "7. User accepted input:\n",
    "    \n",
    "    - features and specifications\n",
    "    \n",
    "8. Introducing if else conditions\n",
    "\n",
    "9. Case study: Building an simple voting application\n",
    "    \n",
    "10. Introduction to tuple data type\n",
    "\n",
    "    - Tuple declaration\n",
    "    - Features\n",
    "    - built-in methods of tuple\n",
    "    \n",
    "11. Introduction to functions\n",
    "\n",
    "    - how to define functions\n",
    "    - types of arguments in functions\n",
    "    - declaring variables in functions\n",
    "    \n",
    "12. Introduction to classes:(OOPS concepts)\n",
    "    \n",
    "    - how to define classes\n",
    "    - how to create methods\n",
    "    - how to create attributes of classes\n",
    "    - assigning objects to classes\n",
    "    - understandng the constructor\n",
    "    \n",
    "** Case study: creating a blue print of user name display and greeting\n",
    "\n",
    "13. File handling in python\n",
    "\n",
    "    - How to lad files in python\n",
    "    - File reading\n",
    "    - File appending \n",
    "    - File overwriting\n",
    "    \n",
    "\n",
    "14. Exception handling - overview\n",
    "\n",
    "    - ZeroDivisionException\n",
    "    - FileNotFoundException\n",
    "    \n",
    "    \n",
    "    ***** End of course content *****\n"
   ]
  }
 ],
 "metadata": {
  "kernelspec": {
   "display_name": "Python 3",
   "language": "python",
   "name": "python3"
  },
  "language_info": {
   "codemirror_mode": {
    "name": "ipython",
    "version": 3
   },
   "file_extension": ".py",
   "mimetype": "text/x-python",
   "name": "python",
   "nbconvert_exporter": "python",
   "pygments_lexer": "ipython3",
   "version": "3.7.6"
  }
 },
 "nbformat": 4,
 "nbformat_minor": 4
}
